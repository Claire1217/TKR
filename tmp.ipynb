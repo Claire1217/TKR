{
 "cells": [
  {
   "cell_type": "code",
   "execution_count": 1,
   "metadata": {},
   "outputs": [],
   "source": [
    "import numpy as np\n",
    "import pandas as pd\n",
    "import os\n",
    "import nibabel as nib\n",
    "import random"
   ]
  },
  {
   "cell_type": "code",
   "execution_count": 2,
   "metadata": {},
   "outputs": [],
   "source": [
    "klg_data = pd.read_csv('728_Cohort_KLG_w_Strata.csv')"
   ]
  },
  {
   "cell_type": "code",
   "execution_count": 5,
   "metadata": {},
   "outputs": [
    {
     "data": {
      "text/html": [
       "<div>\n",
       "<style scoped>\n",
       "    .dataframe tbody tr th:only-of-type {\n",
       "        vertical-align: middle;\n",
       "    }\n",
       "\n",
       "    .dataframe tbody tr th {\n",
       "        vertical-align: top;\n",
       "    }\n",
       "\n",
       "    .dataframe thead th {\n",
       "        text-align: right;\n",
       "    }\n",
       "</style>\n",
       "<table border=\"1\" class=\"dataframe\">\n",
       "  <thead>\n",
       "    <tr style=\"text-align: right;\">\n",
       "      <th></th>\n",
       "      <th>ID</th>\n",
       "      <th>Label</th>\n",
       "      <th>Strata</th>\n",
       "      <th>Side</th>\n",
       "      <th>KLG</th>\n",
       "      <th>h5Name</th>\n",
       "    </tr>\n",
       "  </thead>\n",
       "  <tbody>\n",
       "    <tr>\n",
       "      <th>3</th>\n",
       "      <td>9005132</td>\n",
       "      <td>1</td>\n",
       "      <td>145</td>\n",
       "      <td>0</td>\n",
       "      <td>4</td>\n",
       "      <td>9005132_00m_LEFT_KNEE.hdf5</td>\n",
       "    </tr>\n",
       "    <tr>\n",
       "      <th>9</th>\n",
       "      <td>9011918</td>\n",
       "      <td>1</td>\n",
       "      <td>202</td>\n",
       "      <td>0</td>\n",
       "      <td>3</td>\n",
       "      <td>9011918_00m_LEFT_KNEE.hdf5</td>\n",
       "    </tr>\n",
       "    <tr>\n",
       "      <th>11</th>\n",
       "      <td>9014797</td>\n",
       "      <td>1</td>\n",
       "      <td>282</td>\n",
       "      <td>1</td>\n",
       "      <td>1</td>\n",
       "      <td>9014797_00m_RIGHT_KNEE.hdf5</td>\n",
       "    </tr>\n",
       "    <tr>\n",
       "      <th>12</th>\n",
       "      <td>9014883</td>\n",
       "      <td>1</td>\n",
       "      <td>309</td>\n",
       "      <td>0</td>\n",
       "      <td>3</td>\n",
       "      <td>9014883_00m_LEFT_KNEE.hdf5</td>\n",
       "    </tr>\n",
       "    <tr>\n",
       "      <th>13</th>\n",
       "      <td>9015363</td>\n",
       "      <td>1</td>\n",
       "      <td>85</td>\n",
       "      <td>1</td>\n",
       "      <td>3</td>\n",
       "      <td>9015363_00m_RIGHT_KNEE.hdf5</td>\n",
       "    </tr>\n",
       "    <tr>\n",
       "      <th>...</th>\n",
       "      <td>...</td>\n",
       "      <td>...</td>\n",
       "      <td>...</td>\n",
       "      <td>...</td>\n",
       "      <td>...</td>\n",
       "      <td>...</td>\n",
       "    </tr>\n",
       "    <tr>\n",
       "      <th>717</th>\n",
       "      <td>9988891</td>\n",
       "      <td>1</td>\n",
       "      <td>127</td>\n",
       "      <td>1</td>\n",
       "      <td>3</td>\n",
       "      <td>9988891_00m_RIGHT_KNEE.hdf5</td>\n",
       "    </tr>\n",
       "    <tr>\n",
       "      <th>718</th>\n",
       "      <td>9991313</td>\n",
       "      <td>1</td>\n",
       "      <td>176</td>\n",
       "      <td>0</td>\n",
       "      <td>4</td>\n",
       "      <td>9991313_00m_LEFT_KNEE.hdf5</td>\n",
       "    </tr>\n",
       "    <tr>\n",
       "      <th>719</th>\n",
       "      <td>9992318</td>\n",
       "      <td>1</td>\n",
       "      <td>190</td>\n",
       "      <td>0</td>\n",
       "      <td>4</td>\n",
       "      <td>9992318_00m_LEFT_KNEE.hdf5</td>\n",
       "    </tr>\n",
       "    <tr>\n",
       "      <th>720</th>\n",
       "      <td>9992358</td>\n",
       "      <td>1</td>\n",
       "      <td>195</td>\n",
       "      <td>1</td>\n",
       "      <td>2</td>\n",
       "      <td>9992358_00m_RIGHT_KNEE.hdf5</td>\n",
       "    </tr>\n",
       "    <tr>\n",
       "      <th>723</th>\n",
       "      <td>9993650</td>\n",
       "      <td>1</td>\n",
       "      <td>87</td>\n",
       "      <td>1</td>\n",
       "      <td>2</td>\n",
       "      <td>9993650_00m_RIGHT_KNEE.hdf5</td>\n",
       "    </tr>\n",
       "  </tbody>\n",
       "</table>\n",
       "<p>364 rows × 6 columns</p>\n",
       "</div>"
      ],
      "text/plain": [
       "          ID  Label  Strata  Side  KLG                       h5Name\n",
       "3    9005132      1     145     0    4   9005132_00m_LEFT_KNEE.hdf5\n",
       "9    9011918      1     202     0    3   9011918_00m_LEFT_KNEE.hdf5\n",
       "11   9014797      1     282     1    1  9014797_00m_RIGHT_KNEE.hdf5\n",
       "12   9014883      1     309     0    3   9014883_00m_LEFT_KNEE.hdf5\n",
       "13   9015363      1      85     1    3  9015363_00m_RIGHT_KNEE.hdf5\n",
       "..       ...    ...     ...   ...  ...                          ...\n",
       "717  9988891      1     127     1    3  9988891_00m_RIGHT_KNEE.hdf5\n",
       "718  9991313      1     176     0    4   9991313_00m_LEFT_KNEE.hdf5\n",
       "719  9992318      1     190     0    4   9992318_00m_LEFT_KNEE.hdf5\n",
       "720  9992358      1     195     1    2  9992358_00m_RIGHT_KNEE.hdf5\n",
       "723  9993650      1      87     1    2  9993650_00m_RIGHT_KNEE.hdf5\n",
       "\n",
       "[364 rows x 6 columns]"
      ]
     },
     "execution_count": 5,
     "metadata": {},
     "output_type": "execute_result"
    }
   ],
   "source": [
    "klg_data[klg_data['Label'] == 1]"
   ]
  },
  {
   "cell_type": "code",
   "execution_count": null,
   "metadata": {},
   "outputs": [],
   "source": [
    "p = 'R:\\OAIKNEE-Q1126\\OAI_Full_Dataset\\\\0.C.2'\n",
    "fpath_list = []\n",
    "for path, subdirs, files in os.walk(p):\n",
    "    while len(fpath_list) < 433:\n",
    "        for name in files:\n",
    "            if '_de3d1_SAG_3D_DESS_WE_LEFT.nii.gz' in name:\n",
    "                pid = int(name.split('_')[0][3:])\n",
    "                side = name.split('_')[-1].split('.')[0]\n",
    "                left_img_path_dic[pid] = os.path.join(path, name)"
   ]
  },
  {
   "cell_type": "code",
   "execution_count": 2,
   "metadata": {},
   "outputs": [],
   "source": [
    "def get_img_info(path_list):\n",
    "    left_img_path_dic = {}\n",
    "    right_img_path_dic = {}\n",
    "    for p in path_list:\n",
    "        for path, subdirs, files in os.walk(p):\n",
    "            for name in files:\n",
    "                if '_de3d1_SAG_3D_DESS_WE_LEFT.nii.gz' in name:\n",
    "                    pid = int(name.split('_')[0][3:])\n",
    "                    side = name.split('_')[-1].split('.')[0]\n",
    "                    left_img_path_dic[pid] = os.path.join(path, name)\n",
    "                elif '_de3d1_SAG_3D_DESS_WE_RIGHT.nii.gz' in name:\n",
    "                    pid = int(name.split('_')[0][3:])\n",
    "                    side = name.split('_')[-1].split('.')[0]\n",
    "                    right_img_path_dic[pid] = os.path.join(path, name)\n",
    "    return left_img_path_dic, right_img_path_dic\n",
    "\n",
    "def match(left_pid_set, right_pid_set, left_dic, right_dic):\n",
    "    target_fp = []\n",
    "    target_id = set()\n",
    "    for id in left_pid_set:\n",
    "        if id in left_dic:\n",
    "            target_id.add(id)\n",
    "            target_fp.append(left_dic[id])\n",
    "    for id in right_pid_set:\n",
    "        if id in right_dic:\n",
    "            target_id.add(id)\n",
    "            target_fp.append(right_dic[id])\n",
    "    return target_fp, target_id\n",
    "\n",
    "klg_data = pd.read_csv('728_Cohort_KLG_w_Strata.csv')\n",
    "left_dic, right_dic = get_img_info(['R:\\OAIKNEE-Q1126\\OAI_Full_Dataset\\\\0.C.2', 'R:\\OAIKNEE-Q1126\\OAI_Full_Dataset\\\\0.E.1'])\n",
    "with open('Outcomes99.txt') as f:\n",
    "    lines = f.readlines()\n",
    "left_pids = []\n",
    "right_pids = []\n",
    "for line in lines:\n",
    "    splited = line.split('|')\n",
    "    if 'Total' in splited[6] or 'Partial' in splited[6]:\n",
    "        right_pids.append(int(splited[0]))\n",
    "    if 'Total' in splited[20] or 'Partial' in splited[20]:\n",
    "        left_pids.append(int(splited[0]))"
   ]
  },
  {
   "cell_type": "code",
   "execution_count": 3,
   "metadata": {},
   "outputs": [],
   "source": [
    "def get_no_tkr_imgs(left_pid_set, right_pid_set, left_dic, right_dic):\n",
    "    target_fp = []\n",
    "    for id in left_dic:\n",
    "        if id not in left_pid_set:\n",
    "            target_fp.append(left_dic[id])\n",
    "    for id in right_dic:\n",
    "        if id not in right_pid_set:\n",
    "            target_fp.append(right_dic[id])\n",
    "    return target_fp"
   ]
  },
  {
   "cell_type": "code",
   "execution_count": 4,
   "metadata": {},
   "outputs": [],
   "source": [
    "left_pid_set = set(left_pids)\n",
    "right_pid_set = set(right_pids)\n",
    "for index, row in klg_data.iterrows():\n",
    "    if row[1] == 1 and row[3] == 0:\n",
    "        left_pid_set.add(row[0])\n",
    "    if row[1] == 1 and row[3] == 1:\n",
    "        right_pid_set.add(row[0])\n",
    "        \n",
    "non_tkf_fp = get_no_tkr_imgs(left_pid_set, right_pid_set, left_dic, right_dic)"
   ]
  },
  {
   "cell_type": "code",
   "execution_count": 11,
   "metadata": {},
   "outputs": [
    {
     "data": {
      "text/plain": [
       "6763"
      ]
     },
     "execution_count": 11,
     "metadata": {},
     "output_type": "execute_result"
    }
   ],
   "source": [
    "len(non_tkf_fp)"
   ]
  },
  {
   "cell_type": "code",
   "execution_count": 5,
   "metadata": {},
   "outputs": [],
   "source": [
    "non_tkf_fp_random = random.choices(non_tkf_fp, k=433)"
   ]
  },
  {
   "cell_type": "code",
   "execution_count": null,
   "metadata": {},
   "outputs": [],
   "source": []
  },
  {
   "cell_type": "code",
   "execution_count": 6,
   "metadata": {},
   "outputs": [],
   "source": [
    "import shutil\n",
    "for fp in non_tkf_fp_random:\n",
    "    shutil.copy(fp, 'R:\\OAIKNEE-Q1126\\OAI_UQ_processed\\AKOA_TKR_Data\\\\NO_TKR')"
   ]
  },
  {
   "cell_type": "code",
   "execution_count": null,
   "metadata": {},
   "outputs": [],
   "source": []
  }
 ],
 "metadata": {
  "interpreter": {
   "hash": "88043e72b92bdc0ff4a202bd00cd8147a767a75a10e9c760804fa38520987ed7"
  },
  "kernelspec": {
   "display_name": "Python 3.9.7",
   "language": "python",
   "name": "python3"
  },
  "language_info": {
   "codemirror_mode": {
    "name": "ipython",
    "version": 3
   },
   "file_extension": ".py",
   "mimetype": "text/x-python",
   "name": "python",
   "nbconvert_exporter": "python",
   "pygments_lexer": "ipython3",
   "version": "3.9.7"
  },
  "orig_nbformat": 4
 },
 "nbformat": 4,
 "nbformat_minor": 2
}
