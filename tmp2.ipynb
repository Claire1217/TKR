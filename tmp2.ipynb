{
 "cells": [
  {
   "cell_type": "code",
   "execution_count": 24,
   "metadata": {},
   "outputs": [],
   "source": [
    "import os\n",
    "from model import *\n",
    "from tkr_generator import *"
   ]
  },
  {
   "cell_type": "code",
   "execution_count": 19,
   "metadata": {},
   "outputs": [],
   "source": [
    "l = os.listdir('weights')"
   ]
  },
  {
   "cell_type": "code",
   "execution_count": 35,
   "metadata": {},
   "outputs": [],
   "source": [
    "for file in l:\n",
    "    if file not in fl and file[0] == 'c':\n",
    "        os.remove(os.path.join('weights', file))\n"
   ]
  },
  {
   "cell_type": "code",
   "execution_count": 33,
   "metadata": {},
   "outputs": [
    {
     "name": "stdout",
     "output_type": "stream",
     "text": [
      "coronal_weights_iter154000_loss0.1959782961755991.pth\n",
      "coronal_weights_iter179920_loss0.1854187985882163.pth\n",
      "coronal_weights_iter207200_loss0.16950118131935596.pth\n",
      "coronal_weights_iter215440_loss0.19139521531760692.pth\n",
      "coronal_weights_iter232980_loss0.19758271537721156.pth\n",
      "coronal_weights_iter244940_loss0.18740749210119248.pth\n",
      "sagittal_weights_iter1000_loss0.49270457625389097.pth\n",
      "sagittal_weights_iter100_loss0.4935203805565834.pth\n",
      "sagittal_weights_iter1320_loss0.4883604675531387.pth\n",
      "sagittal_weights_iter140_loss0.4659709893167019.pth\n",
      "sagittal_weights_iter160_loss0.49994540140032767.pth\n",
      "sagittal_weights_iter1840_loss0.48138906210660937.pth\n",
      "sagittal_weights_iter200_loss0.49033083468675615.pth\n",
      "sagittal_weights_iter200_loss0.4931981094181538.pth\n",
      "sagittal_weights_iter220_loss0.4741761788725853.pth\n",
      "sagittal_weights_iter2220_loss0.48922955617308617.pth\n",
      "sagittal_weights_iter2320_loss0.4987430810928345.pth\n",
      "sagittal_weights_iter2360_loss0.49468439966440203.pth\n",
      "sagittal_weights_iter2400_loss0.42664107531309126.pth\n",
      "sagittal_weights_iter340_loss0.47837238013744354.pth\n",
      "sagittal_weights_iter440_loss0.49316502287983893.pth\n",
      "sagittal_weights_iter620_loss0.4966121383011341.pth\n",
      "sagittal_weights_iter640_loss0.46570993959903717.pth\n",
      "sagittal_weights_iter660_loss0.4587913274765015.pth\n",
      "sagittal_weights_iter720_loss0.48220301419496536.pth\n",
      "sagittal_weights_iter760_loss0.4406039364635944.pth\n",
      "sagittal_weights_iter820_loss0.4544828824698925.pth\n",
      "sagittal_weights_iter820_loss0.4954758584499359.pth\n",
      "sagittal_weights_iter920_loss0.47633585035800935.pth\n",
      "sagittal_weights_iter960_loss0.4846234530210495.pth\n",
      "sagittal_weights_iter980_loss0.49019596427679063.pth\n",
      "6\n"
     ]
    }
   ],
   "source": [
    "count = 0\n",
    "fl = []\n",
    "sagl = []\n",
    "for file in l:\n",
    "    acc = int(file.split('_')[-1].split('.')[1][0])\n",
    "    if acc < 5 and file[0] == 's':\n",
    "        print(file)\n",
    "    if acc < 2:\n",
    "        print(file)\n",
    "        count +=1\n",
    "        fl.append(file)\n",
    "print(count)"
   ]
  },
  {
   "cell_type": "code",
   "execution_count": null,
   "metadata": {},
   "outputs": [],
   "source": []
  },
  {
   "cell_type": "code",
   "execution_count": 9,
   "metadata": {},
   "outputs": [
    {
     "data": {
      "text/plain": [
       "'4'"
      ]
     },
     "execution_count": 9,
     "metadata": {},
     "output_type": "execute_result"
    }
   ],
   "source": [
    "l[0].split('_')[-1].split('.')[1][0]"
   ]
  },
  {
   "cell_type": "code",
   "execution_count": 25,
   "metadata": {},
   "outputs": [
    {
     "data": {
      "text/plain": [
       "channel1(\n",
       "  (conv1): Conv2d(1, 96, kernel_size=(3, 3), stride=(1, 1), padding=(1, 1))\n",
       "  (relu1): ReLU(inplace=True)\n",
       "  (conv2): Conv2d(96, 10, kernel_size=(3, 3), stride=(1, 1), padding=(1, 1))\n",
       "  (conv3): Conv2d(10, 4, kernel_size=(3, 3), stride=(1, 1), padding=(1, 1))\n",
       "  (fc1): Linear(in_features=4096, out_features=120, bias=True)\n",
       "  (pool): MaxPool2d(kernel_size=2, stride=2, padding=0, dilation=1, ceil_mode=False)\n",
       "  (fc2): Linear(in_features=120, out_features=1, bias=True)\n",
       ")"
      ]
     },
     "execution_count": 25,
     "metadata": {},
     "output_type": "execute_result"
    }
   ],
   "source": [
    "model = channel1()\n",
    "model.load_state_dict(torch.load('weights/coronal_weights_iter207200_loss0.16950118131935596.pth'))\n",
    "model.eval()"
   ]
  },
  {
   "cell_type": "code",
   "execution_count": 26,
   "metadata": {},
   "outputs": [],
   "source": [
    "train_loader = TKRDataset('R:\\OAIKNEE-Q1126\\OAI_UQ_processed\\AKOA_TKR_Data', 1)\n",
    "count = 0\n",
    "for i in range(100):\n",
    "    images, labels = train_loader.__getitem__(0)\n",
    "    images = torch.tensor(images, dtype=float)\n",
    "    outputs = model(images.reshape(4,1,256,256).float())\n",
    "    pred = torch.round(torch.sigmoid(outputs)).detach().numpy().squeeze()\n",
    "    count += np.sum(pred == labels)"
   ]
  },
  {
   "cell_type": "code",
   "execution_count": 28,
   "metadata": {},
   "outputs": [
    {
     "data": {
      "text/plain": [
       "0.845"
      ]
     },
     "execution_count": 28,
     "metadata": {},
     "output_type": "execute_result"
    }
   ],
   "source": [
    "count/400"
   ]
  },
  {
   "cell_type": "code",
   "execution_count": 37,
   "metadata": {},
   "outputs": [
    {
     "name": "stdout",
     "output_type": "stream",
     "text": [
      "Collecting sklearn\n",
      "  Downloading sklearn-0.0.tar.gz (1.1 kB)\n",
      "Collecting scikit-learn\n",
      "  Downloading scikit_learn-1.0.2-cp37-cp37m-win_amd64.whl (7.1 MB)\n",
      "Collecting scipy>=1.1.0\n",
      "  Downloading scipy-1.7.3-cp37-cp37m-win_amd64.whl (34.1 MB)\n",
      "Collecting joblib>=0.11\n",
      "  Downloading joblib-1.1.0-py2.py3-none-any.whl (306 kB)\n",
      "Collecting threadpoolctl>=2.0.0\n",
      "  Downloading threadpoolctl-3.1.0-py3-none-any.whl (14 kB)\n",
      "Requirement already satisfied: numpy>=1.14.6 in c:\\users\\s4469251\\anaconda3\\envs\\pt\\lib\\site-packages (from scikit-learn->sklearn) (1.21.5)\n",
      "Building wheels for collected packages: sklearn\n",
      "  Building wheel for sklearn (setup.py): started\n",
      "  Building wheel for sklearn (setup.py): finished with status 'done'\n",
      "  Created wheel for sklearn: filename=sklearn-0.0-py2.py3-none-any.whl size=1310 sha256=519c31a3ef2f6a2b6b9312b14b1e6d5d00643059f689a1bb7361440358eb9891\n",
      "  Stored in directory: c:\\users\\s4469251\\appdata\\local\\pip\\cache\\wheels\\46\\ef\\c3\\157e41f5ee1372d1be90b09f74f82b10e391eaacca8f22d33e\n",
      "Successfully built sklearn\n",
      "Installing collected packages: threadpoolctl, scipy, joblib, scikit-learn, sklearn\n",
      "Successfully installed joblib-1.1.0 scikit-learn-1.0.2 scipy-1.7.3 sklearn-0.0 threadpoolctl-3.1.0\n"
     ]
    }
   ],
   "source": [
    "!pip install sklearn"
   ]
  },
  {
   "cell_type": "code",
   "execution_count": 64,
   "metadata": {},
   "outputs": [],
   "source": [
    "train_loader = TKRDataset('R:\\OAIKNEE-Q1126\\OAI_UQ_processed\\AKOA_TKR_Data', 1, batch_size=100)\n",
    "images, labels = train_loader.__getitem__(0)\n"
   ]
  },
  {
   "cell_type": "code",
   "execution_count": 68,
   "metadata": {},
   "outputs": [
    {
     "name": "stdout",
     "output_type": "stream",
     "text": [
      "Auc:\n",
      "0.8258913648129826\n",
      "Accuract:\n",
      "82.6\n"
     ]
    }
   ],
   "source": [
    "count = 0\n",
    "auc = 0\n",
    "for i in range(5):\n",
    "    train_loader = TKRDataset('R:\\OAIKNEE-Q1126\\OAI_UQ_processed\\AKOA_TKR_Data', 1, batch_size=100)\n",
    "    images, labels = train_loader.__getitem__(0)\n",
    "    model = channel1()\n",
    "    model.load_state_dict(torch.load('weights/coronal_weights_iter179920_loss0.1854187985882163.pth'))\n",
    "    model.eval()\n",
    "    images = torch.tensor(images, dtype=float)\n",
    "    outputs = model(images.reshape(100,1,256,256).float())\n",
    "    pred = torch.round(torch.sigmoid(outputs)).detach().numpy().squeeze()\n",
    "    count += np.sum(pred == labels)\n",
    "    auc += metrics.roc_auc_score(labels, pred)\n",
    "print('Auc:')\n",
    "print(auc/5)\n",
    "print('Accuracy:')\n",
    "print(count/5)   \n"
   ]
  },
  {
   "cell_type": "code",
   "execution_count": null,
   "metadata": {},
   "outputs": [],
   "source": [
    "acc = np.sum(pred == labels)\n",
    "auc = metrics.roc_auc_score(labels, pred)"
   ]
  },
  {
   "cell_type": "code",
   "execution_count": 63,
   "metadata": {},
   "outputs": [
    {
     "data": {
      "text/plain": [
       "0.8596048759983186"
      ]
     },
     "execution_count": 63,
     "metadata": {},
     "output_type": "execute_result"
    }
   ],
   "source": [
    "auc"
   ]
  },
  {
   "cell_type": "code",
   "execution_count": 51,
   "metadata": {},
   "outputs": [
    {
     "name": "stdout",
     "output_type": "stream",
     "text": [
      "0\n",
      "1\n",
      "2\n",
      "3\n",
      "4\n",
      "5\n",
      "6\n",
      "7\n",
      "8\n",
      "9\n",
      "10\n",
      "11\n",
      "12\n",
      "13\n",
      "14\n",
      "15\n",
      "16\n",
      "17\n"
     ]
    },
    {
     "ename": "ValueError",
     "evalue": "Only one class present in y_true. ROC AUC score is not defined in that case.",
     "output_type": "error",
     "traceback": [
      "\u001b[1;31m---------------------------------------------------------------------------\u001b[0m",
      "\u001b[1;31mValueError\u001b[0m                                Traceback (most recent call last)",
      "\u001b[1;32m~\\AppData\\Local\\Temp\\ipykernel_23892\\3213880690.py\u001b[0m in \u001b[0;36m<module>\u001b[1;34m\u001b[0m\n\u001b[0;32m     20\u001b[0m     \u001b[0mprint\u001b[0m\u001b[1;33m(\u001b[0m\u001b[0mcount\u001b[0m\u001b[1;33m/\u001b[0m\u001b[1;36m400\u001b[0m\u001b[1;33m)\u001b[0m\u001b[1;33m\u001b[0m\u001b[1;33m\u001b[0m\u001b[0m\n\u001b[0;32m     21\u001b[0m \u001b[1;33m\u001b[0m\u001b[0m\n\u001b[1;32m---> 22\u001b[1;33m \u001b[0mtest_model\u001b[0m\u001b[1;33m(\u001b[0m\u001b[1;34m'weights/coronal_weights_iter179920_loss0.1854187985882163.pth'\u001b[0m\u001b[1;33m)\u001b[0m\u001b[1;33m\u001b[0m\u001b[1;33m\u001b[0m\u001b[0m\n\u001b[0m",
      "\u001b[1;32m~\\AppData\\Local\\Temp\\ipykernel_23892\\3213880690.py\u001b[0m in \u001b[0;36mtest_model\u001b[1;34m(weight_file)\u001b[0m\n\u001b[0;32m     14\u001b[0m         \u001b[0mpred\u001b[0m \u001b[1;33m=\u001b[0m \u001b[0mtorch\u001b[0m\u001b[1;33m.\u001b[0m\u001b[0mround\u001b[0m\u001b[1;33m(\u001b[0m\u001b[0mtorch\u001b[0m\u001b[1;33m.\u001b[0m\u001b[0msigmoid\u001b[0m\u001b[1;33m(\u001b[0m\u001b[0moutputs\u001b[0m\u001b[1;33m)\u001b[0m\u001b[1;33m)\u001b[0m\u001b[1;33m.\u001b[0m\u001b[0mdetach\u001b[0m\u001b[1;33m(\u001b[0m\u001b[1;33m)\u001b[0m\u001b[1;33m.\u001b[0m\u001b[0mnumpy\u001b[0m\u001b[1;33m(\u001b[0m\u001b[1;33m)\u001b[0m\u001b[1;33m.\u001b[0m\u001b[0msqueeze\u001b[0m\u001b[1;33m(\u001b[0m\u001b[1;33m)\u001b[0m\u001b[1;33m\u001b[0m\u001b[1;33m\u001b[0m\u001b[0m\n\u001b[0;32m     15\u001b[0m         \u001b[0mcount\u001b[0m \u001b[1;33m+=\u001b[0m \u001b[0mnp\u001b[0m\u001b[1;33m.\u001b[0m\u001b[0msum\u001b[0m\u001b[1;33m(\u001b[0m\u001b[0mpred\u001b[0m \u001b[1;33m==\u001b[0m \u001b[0mlabels\u001b[0m\u001b[1;33m)\u001b[0m\u001b[1;33m\u001b[0m\u001b[1;33m\u001b[0m\u001b[0m\n\u001b[1;32m---> 16\u001b[1;33m         \u001b[0mauc\u001b[0m \u001b[1;33m+=\u001b[0m \u001b[0mmetrics\u001b[0m\u001b[1;33m.\u001b[0m\u001b[0mroc_auc_score\u001b[0m\u001b[1;33m(\u001b[0m\u001b[0mlabels\u001b[0m\u001b[1;33m,\u001b[0m \u001b[0mpred\u001b[0m\u001b[1;33m)\u001b[0m\u001b[1;33m\u001b[0m\u001b[1;33m\u001b[0m\u001b[0m\n\u001b[0m\u001b[0;32m     17\u001b[0m     \u001b[0mprint\u001b[0m\u001b[1;33m(\u001b[0m\u001b[1;34m'Auc:'\u001b[0m\u001b[1;33m)\u001b[0m\u001b[1;33m\u001b[0m\u001b[1;33m\u001b[0m\u001b[0m\n\u001b[0;32m     18\u001b[0m     \u001b[0mprint\u001b[0m\u001b[1;33m(\u001b[0m\u001b[0mauc\u001b[0m\u001b[1;33m/\u001b[0m\u001b[1;36m100\u001b[0m\u001b[1;33m)\u001b[0m\u001b[1;33m\u001b[0m\u001b[1;33m\u001b[0m\u001b[0m\n",
      "\u001b[1;32m~\\Anaconda3\\envs\\pt\\lib\\site-packages\\sklearn\\metrics\\_ranking.py\u001b[0m in \u001b[0;36mroc_auc_score\u001b[1;34m(y_true, y_score, average, sample_weight, max_fpr, multi_class, labels)\u001b[0m\n\u001b[0;32m    570\u001b[0m             \u001b[0my_score\u001b[0m\u001b[1;33m,\u001b[0m\u001b[1;33m\u001b[0m\u001b[1;33m\u001b[0m\u001b[0m\n\u001b[0;32m    571\u001b[0m             \u001b[0maverage\u001b[0m\u001b[1;33m,\u001b[0m\u001b[1;33m\u001b[0m\u001b[1;33m\u001b[0m\u001b[0m\n\u001b[1;32m--> 572\u001b[1;33m             \u001b[0msample_weight\u001b[0m\u001b[1;33m=\u001b[0m\u001b[0msample_weight\u001b[0m\u001b[1;33m,\u001b[0m\u001b[1;33m\u001b[0m\u001b[1;33m\u001b[0m\u001b[0m\n\u001b[0m\u001b[0;32m    573\u001b[0m         )\n\u001b[0;32m    574\u001b[0m     \u001b[1;32melse\u001b[0m\u001b[1;33m:\u001b[0m  \u001b[1;31m# multilabel-indicator\u001b[0m\u001b[1;33m\u001b[0m\u001b[1;33m\u001b[0m\u001b[0m\n",
      "\u001b[1;32m~\\Anaconda3\\envs\\pt\\lib\\site-packages\\sklearn\\metrics\\_base.py\u001b[0m in \u001b[0;36m_average_binary_score\u001b[1;34m(binary_metric, y_true, y_score, average, sample_weight)\u001b[0m\n\u001b[0;32m     73\u001b[0m \u001b[1;33m\u001b[0m\u001b[0m\n\u001b[0;32m     74\u001b[0m     \u001b[1;32mif\u001b[0m \u001b[0my_type\u001b[0m \u001b[1;33m==\u001b[0m \u001b[1;34m\"binary\"\u001b[0m\u001b[1;33m:\u001b[0m\u001b[1;33m\u001b[0m\u001b[1;33m\u001b[0m\u001b[0m\n\u001b[1;32m---> 75\u001b[1;33m         \u001b[1;32mreturn\u001b[0m \u001b[0mbinary_metric\u001b[0m\u001b[1;33m(\u001b[0m\u001b[0my_true\u001b[0m\u001b[1;33m,\u001b[0m \u001b[0my_score\u001b[0m\u001b[1;33m,\u001b[0m \u001b[0msample_weight\u001b[0m\u001b[1;33m=\u001b[0m\u001b[0msample_weight\u001b[0m\u001b[1;33m)\u001b[0m\u001b[1;33m\u001b[0m\u001b[1;33m\u001b[0m\u001b[0m\n\u001b[0m\u001b[0;32m     76\u001b[0m \u001b[1;33m\u001b[0m\u001b[0m\n\u001b[0;32m     77\u001b[0m     \u001b[0mcheck_consistent_length\u001b[0m\u001b[1;33m(\u001b[0m\u001b[0my_true\u001b[0m\u001b[1;33m,\u001b[0m \u001b[0my_score\u001b[0m\u001b[1;33m,\u001b[0m \u001b[0msample_weight\u001b[0m\u001b[1;33m)\u001b[0m\u001b[1;33m\u001b[0m\u001b[1;33m\u001b[0m\u001b[0m\n",
      "\u001b[1;32m~\\Anaconda3\\envs\\pt\\lib\\site-packages\\sklearn\\metrics\\_ranking.py\u001b[0m in \u001b[0;36m_binary_roc_auc_score\u001b[1;34m(y_true, y_score, sample_weight, max_fpr)\u001b[0m\n\u001b[0;32m    336\u001b[0m     \u001b[1;32mif\u001b[0m \u001b[0mlen\u001b[0m\u001b[1;33m(\u001b[0m\u001b[0mnp\u001b[0m\u001b[1;33m.\u001b[0m\u001b[0munique\u001b[0m\u001b[1;33m(\u001b[0m\u001b[0my_true\u001b[0m\u001b[1;33m)\u001b[0m\u001b[1;33m)\u001b[0m \u001b[1;33m!=\u001b[0m \u001b[1;36m2\u001b[0m\u001b[1;33m:\u001b[0m\u001b[1;33m\u001b[0m\u001b[1;33m\u001b[0m\u001b[0m\n\u001b[0;32m    337\u001b[0m         raise ValueError(\n\u001b[1;32m--> 338\u001b[1;33m             \u001b[1;34m\"Only one class present in y_true. ROC AUC score \"\u001b[0m\u001b[1;33m\u001b[0m\u001b[1;33m\u001b[0m\u001b[0m\n\u001b[0m\u001b[0;32m    339\u001b[0m             \u001b[1;34m\"is not defined in that case.\"\u001b[0m\u001b[1;33m\u001b[0m\u001b[1;33m\u001b[0m\u001b[0m\n\u001b[0;32m    340\u001b[0m         )\n",
      "\u001b[1;31mValueError\u001b[0m: Only one class present in y_true. ROC AUC score is not defined in that case."
     ]
    }
   ],
   "source": [
    "from sklearn import metrics\n",
    "def test_model(weight_file):\n",
    "    model = channel1()\n",
    "    model.load_state_dict(torch.load(weight_file))\n",
    "    model.eval()\n",
    "    train_loader = TKRDataset('R:\\OAIKNEE-Q1126\\OAI_UQ_processed\\AKOA_TKR_Data', 1, batch_size=100)\n",
    "    count = 0\n",
    "    auc = 0\n",
    "    for i in range(100):\n",
    "        print(i)\n",
    "        images, labels = train_loader.__getitem__(0)\n",
    "        images = torch.tensor(images, dtype=float)\n",
    "        outputs = model(images.reshape(4,1,256,256).float())\n",
    "        pred = torch.round(torch.sigmoid(outputs)).detach().numpy().squeeze()\n",
    "        count += np.sum(pred == labels)\n",
    "        auc += metrics.roc_auc_score(labels, pred)\n",
    "    print('Auc:')\n",
    "    print(auc/100)\n",
    "    print('Accuract:')\n",
    "    print(count/400)\n",
    "\n",
    "test_model('weights/coronal_weights_iter179920_loss0.1854187985882163.pth')"
   ]
  },
  {
   "cell_type": "code",
   "execution_count": null,
   "metadata": {},
   "outputs": [],
   "source": []
  },
  {
   "cell_type": "code",
   "execution_count": null,
   "metadata": {},
   "outputs": [],
   "source": [
    "def test_model_auc(weight_file):\n",
    "    model = channel1()\n",
    "    model.load_state_dict(torch.load(weight_file))\n",
    "    model.eval()\n",
    "    train_loader = TKRDataset('R:\\OAIKNEE-Q1126\\OAI_UQ_processed\\AKOA_TKR_Data', 1)\n",
    "    pos = 0\n",
    "    neg = 0\n",
    "    true_pos = 0\n",
    "    true_neg = 0\n",
    "    for i in range(100):\n",
    "        images, labels = train_loader.__getitem__(0)\n",
    "        images = torch.tensor(images, dtype=float)\n",
    "        outputs = model(images.reshape(4,1,256,256).float())\n",
    "        pos += np.sum(outputs)\n",
    "        neg = neg + 4 - np.sum(outputs)\n",
    "        pred = torch.round(torch.sigmoid(outputs)).detach().numpy().squeeze()\n",
    "        [pred == labels and ]\n",
    "        count += np.sum(pred == labels)\n",
    "    print(count/400)\n"
   ]
  },
  {
   "cell_type": "code",
   "execution_count": null,
   "metadata": {},
   "outputs": [],
   "source": [
    "from sklearn import metrics\n",
    "y = np.array([1, 1, 2, 2])\n",
    "pred = np.array([0.1, 0.4, 0.35, 0.8])\n",
    "fpr, tpr, thresholds = metrics.roc_curve(y, pred, pos_label=2)\n",
    "metrics.auc(fpr, tpr)"
   ]
  }
 ],
 "metadata": {
  "interpreter": {
   "hash": "f80f8f2c86ad4cfab96b7b4f8fdfd1b4cf2cfcb15b76a3f739b49f4c7d4ee0d4"
  },
  "kernelspec": {
   "display_name": "Python 3.7.13 ('pt')",
   "language": "python",
   "name": "python3"
  },
  "language_info": {
   "codemirror_mode": {
    "name": "ipython",
    "version": 3
   },
   "file_extension": ".py",
   "mimetype": "text/x-python",
   "name": "python",
   "nbconvert_exporter": "python",
   "pygments_lexer": "ipython3",
   "version": "3.7.13"
  },
  "orig_nbformat": 4
 },
 "nbformat": 4,
 "nbformat_minor": 2
}
